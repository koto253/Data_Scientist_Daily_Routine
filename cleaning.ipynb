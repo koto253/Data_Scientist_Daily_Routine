{
  "nbformat": 4,
  "nbformat_minor": 0,
  "metadata": {
    "colab": {
      "provenance": [],
      "authorship_tag": "ABX9TyNQRUbaeH0vj3dEcys7Lo+r",
      "include_colab_link": true
    },
    "kernelspec": {
      "name": "python3",
      "display_name": "Python 3"
    },
    "language_info": {
      "name": "python"
    }
  },
  "cells": [
    {
      "cell_type": "markdown",
      "metadata": {
        "id": "view-in-github",
        "colab_type": "text"
      },
      "source": [
        "<a href=\"https://colab.research.google.com/github/koto253/Data_Scientist_Daily_Routine/blob/cleaning_data/cleaning.ipynb\" target=\"_parent\"><img src=\"https://colab.research.google.com/assets/colab-badge.svg\" alt=\"Open In Colab\"/></a>"
      ]
    },
    {
      "cell_type": "code",
      "execution_count": null,
      "metadata": {
        "id": "TjYAcPaSEYuk"
      },
      "outputs": [],
      "source": [
        "from google.colab import drive\n",
        "drive.mount('/content/drive')"
      ]
    },
    {
      "cell_type": "code",
      "source": [
        "# Importing Libraries\n",
        "import pandas as pd"
      ],
      "metadata": {
        "id": "xGCHQ9lmEcQg"
      },
      "execution_count": 2,
      "outputs": []
    },
    {
      "cell_type": "code",
      "source": [
        "# Loading the dataset\n",
        "df = pd.read_excel('/content/drive/MyDrive/Downloads/meteorite_dataset.xlsx')"
      ],
      "metadata": {
        "id": "vdah4P62EgK0"
      },
      "execution_count": 3,
      "outputs": []
    },
    {
      "cell_type": "code",
      "source": [
        "# Dropping colunn\n",
        "# df.drop(columns='Id.1', inplace=True)"
      ],
      "metadata": {
        "id": "TaQ9ThEcE0_E"
      },
      "execution_count": 24,
      "outputs": []
    },
    {
      "cell_type": "code",
      "source": [
        "# Rename column\n",
        "df.rename(columns={'Name': 'City'}, inplace=True)\n"
      ],
      "metadata": {
        "id": "eTK8PKhZE1-9"
      },
      "execution_count": null,
      "outputs": []
    },
    {
      "cell_type": "code",
      "source": [
        "# Splitting the 'Location' into two columns \"Latitude\" and \"Longitude\"\n",
        "df[['Latitude','Longitude']] = df['Location'].str.split(' ',expand=True)"
      ],
      "metadata": {
        "id": "YElgFn5YFm-k"
      },
      "execution_count": 19,
      "outputs": []
    },
    {
      "cell_type": "code",
      "source": [
        "# Drop duplicate data\n",
        "df.drop_duplicates()"
      ],
      "metadata": {
        "id": "usShtsWpGCKO"
      },
      "execution_count": null,
      "outputs": []
    },
    {
      "cell_type": "code",
      "source": [
        "df"
      ],
      "metadata": {
        "id": "fxsnPmrKFlTh"
      },
      "execution_count": null,
      "outputs": []
    },
    {
      "cell_type": "code",
      "source": [
        "# Save the excel file to csv file\n",
        "# data_set.to_csv('DVC1_Data.xlsx', index=False) # index=false to avoid saving row indices as columns"
      ],
      "metadata": {
        "id": "JQhQqetoGRum"
      },
      "execution_count": 23,
      "outputs": []
    }
  ]
}