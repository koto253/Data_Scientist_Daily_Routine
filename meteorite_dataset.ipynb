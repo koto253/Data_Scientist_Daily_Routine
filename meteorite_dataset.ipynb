{
  "nbformat": 4,
  "nbformat_minor": 0,
  "metadata": {
    "colab": {
      "provenance": [],
      "authorship_tag": "ABX9TyP7ji3tCygHVotukZS7HbL3",
      "include_colab_link": true
    },
    "kernelspec": {
      "name": "python3",
      "display_name": "Python 3"
    },
    "language_info": {
      "name": "python"
    }
  },
  "cells": [
    {
      "cell_type": "markdown",
      "metadata": {
        "id": "view-in-github",
        "colab_type": "text"
      },
      "source": [
        "<a href=\"https://colab.research.google.com/github/koto253/Data_Scientist_Daily_Routine/blob/main/meteorite_dataset.ipynb\" target=\"_parent\"><img src=\"https://colab.research.google.com/assets/colab-badge.svg\" alt=\"Open In Colab\"/></a>"
      ]
    },
    {
      "cell_type": "code",
      "execution_count": null,
      "metadata": {
        "id": "ncPKIX6dYHMw"
      },
      "outputs": [],
      "source": [
        "# Import libraries\n",
        "import pandas as pd\n"
      ]
    },
    {
      "cell_type": "markdown",
      "source": [
        "Part1: Exploring Data\n",
        "*   Each column in the data set was initially created by a computer program.\n",
        "*   Do these column names look correct? Do you see any issues that should be fixed with these variables? If so, describe.\n",
        "*   Oftentimes in data sets, extra data can be added that does not answer the researcher’s questions. Looking at the data set, can you identify any columns that can be excluded from the set?\n",
        "*  You want to provide a chart that shows the distribution of the mass of the meteorites over the years. Which chart would be the best for this? Explain why.\n",
        "\n"
      ],
      "metadata": {
        "id": "sEdeJJT1aNxh"
      }
    },
    {
      "cell_type": "markdown",
      "source": [
        "Part II: Preparing Data\n",
        "*  a. Upload the Excel file\n",
        "*  b. Split the location field\n",
        "*  c. Rename Split 1 to \"Lat\"\n",
        "*  d. Rename Split 2 to \"Long\"\n",
        "*  e. Convert the Lat and Long data into a spatial data type\n",
        "*  f. Confirm the date is displayed in a discrete date format\n",
        "*  g. Rename the data type “Name” to “City”\n"
      ],
      "metadata": {
        "id": "42c7tE-wbhRO"
      }
    },
    {
      "cell_type": "code",
      "source": [
        "# a. Upload the Excel file\n",
        "path = \"/content/meteorite_data_set.xlsx\"\n",
        "df = pd.read_excel(path)"
      ],
      "metadata": {
        "id": "ugS3XyC2YdXe"
      },
      "execution_count": 10,
      "outputs": []
    },
    {
      "cell_type": "code",
      "source": [
        "# b. Split the location field\n",
        "# c. Rename Split 1 to \"Lat\"\n",
        "# d. Rename Split 2 to \"Long\"\n",
        "\n",
        "# Splitting the 'Location' into two columns \"Latitude\" and \"Longitude\"\n",
        "df[['Latitude','Longitude']] = df['Location'].str.split(' ',expand=True)\n",
        "\n",
        "# Convert the Lat and Long data into a spatial data type\n",
        "df['geometry'] = df.apply(lambda row: Point(float(row['Longitude']), float(row['Latitude'])), axis=1)\n"
      ],
      "metadata": {
        "id": "Pv6ShgimhDdG"
      },
      "execution_count": 11,
      "outputs": []
    },
    {
      "cell_type": "code",
      "source": [
        "# Dropping \"Location\" column\n",
        "df.drop(columns='Location', inplace=True)\n"
      ],
      "metadata": {
        "id": "GByi0Xy1hl-I"
      },
      "execution_count": 12,
      "outputs": []
    },
    {
      "cell_type": "code",
      "source": [
        "# Rename \"Name\" column\n",
        "df.rename(columns={'Name': 'City'}, inplace=True)\n",
        "\n",
        "# Rename \"Id\" column\n",
        "df.rename(columns={'Id': 'External_Id'}, inplace=True)\n",
        "\n",
        "# Rename \"Id.\" column\n",
        "df.rename(columns={'Id.1': 'Internal_Id'}, inplace=True)\n",
        "\n",
        "# Rename \"Recclass\" column\n",
        "df.rename(columns={'Recclass': 'Associated_Class'}, inplace=True)\n",
        "\n",
        "# Rename \"Fall\" column\n",
        "df.rename(columns={'fall': 'Discovery_Method'})"
      ],
      "metadata": {
        "id": "QVZUjB6hp1UV"
      },
      "execution_count": null,
      "outputs": []
    },
    {
      "cell_type": "code",
      "source": [
        "df"
      ],
      "metadata": {
        "id": "0mlyyBM6hpgd"
      },
      "execution_count": null,
      "outputs": []
    },
    {
      "cell_type": "code",
      "source": [
        "# Save the excel file to csv file\n",
        "# csv_file = 'meteorite.csv'\n",
        "# df.to_csv(csv_file, index=False) # index=false to avoid saving row indices as columns"
      ],
      "metadata": {
        "id": "_A_pt5oGr9ps"
      },
      "execution_count": null,
      "outputs": []
    }
  ]
}